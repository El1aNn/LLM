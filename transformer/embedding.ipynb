{
 "cells": [
  {
   "cell_type": "code",
   "execution_count": 2,
   "metadata": {},
   "outputs": [],
   "source": [
    "import torch.nn as nn\n",
    "import math\n",
    "from torch.autograd import Variable\n",
    "import torch"
   ]
  },
  {
   "cell_type": "code",
   "execution_count": null,
   "metadata": {},
   "outputs": [],
   "source": []
  },
  {
   "cell_type": "code",
   "execution_count": 3,
   "metadata": {},
   "outputs": [],
   "source": [
    "class EMbeddings(nn.Module):\n",
    "    def __init__(self, vocab_size, d_model):\n",
    "        '''\n",
    "        :param vocab_size: 词表大小\n",
    "        :param d_model: 词向量维度\n",
    "        \n",
    "        '''\n",
    "        super(EMbeddings, self).__init__()\n",
    "        self.lut = nn.Embedding(vocab_size, d_model) # 词向量矩阵\n",
    "        self.d_model = d_model # 词向量维度\n",
    "\n",
    "    def forward(self, x):\n",
    "        return self.lut(x) * math.sqrt(self.d_model) # 乘以一个缩放因子"
   ]
  },
  {
   "cell_type": "code",
   "execution_count": 5,
   "metadata": {},
   "outputs": [
    {
     "data": {
      "text/plain": [
       "tensor([[[-1.2731, -0.3458,  0.6379],\n",
       "         [ 0.2230,  0.2892, -1.0349],\n",
       "         [-0.1938, -0.5695,  1.7795],\n",
       "         [-0.5000, -0.0467,  1.4972]],\n",
       "\n",
       "        [[-0.1938, -0.5695,  1.7795],\n",
       "         [-1.2320,  0.9572,  1.2235],\n",
       "         [ 0.2230,  0.2892, -1.0349],\n",
       "         [ 0.0562,  0.3465, -1.2646]]], grad_fn=<EmbeddingBackward0>)"
      ]
     },
     "execution_count": 5,
     "metadata": {},
     "output_type": "execute_result"
    }
   ],
   "source": [
    "embedding = nn.Embedding(10, 3)\n",
    "input = Variable(torch.LongTensor([[1,2,4,5],[4,3,2,9]]))\n",
    "embedding(input)"
   ]
  }
 ],
 "metadata": {
  "kernelspec": {
   "display_name": "CV",
   "language": "python",
   "name": "python3"
  },
  "language_info": {
   "codemirror_mode": {
    "name": "ipython",
    "version": 3
   },
   "file_extension": ".py",
   "mimetype": "text/x-python",
   "name": "python",
   "nbconvert_exporter": "python",
   "pygments_lexer": "ipython3",
   "version": "3.12.2"
  }
 },
 "nbformat": 4,
 "nbformat_minor": 2
}
