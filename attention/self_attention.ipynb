{
 "cells": [
  {
   "cell_type": "code",
   "execution_count": 1,
   "metadata": {},
   "outputs": [],
   "source": [
    "import math\n",
    "import torch\n",
    "import torch.nn as nn\n",
    "import torch.nn.functional as F"
   ]
  },
  {
   "cell_type": "code",
   "execution_count": null,
   "metadata": {},
   "outputs": [],
   "source": [
    "class SelfAttention(nn.Module):\n",
    "    def __init__(self, in_dim, out_dim, hidden_dim, dropout=0.1):\n",
    "        super().__init__()\n",
    "        self.in_dim = in_dim\n",
    "        self.out_dim = out_dim  \n",
    "        self.hidden_dim = hidden_dim\n",
    "        \n",
    "        self.W_q = nn.Linear(in_dim, hidden_dim) \n",
    "        self.W_k = nn.Linear(in_dim, hidden_dim) \n",
    "        self.W_v = nn.Linear(in_dim, hidden_dim)\n",
    "        self.W_o = nn.Linear(hidden_dim, out_dim)\n",
    "        self.dropout = nn.Dropout(dropout)\n",
    "        \n",
    "    def forward(self, x, mask=None):\n",
    "        q = self.W_q(x) \n",
    "        # (batch_size, seq_len, in_dim) * (in_dim, hidden_dim)  = (batch_size, seq_len, hidden_dim)\n",
    "        k = self.W_k(x) \n",
    "        v = self.W_v(x) \n",
    "        # the shape of q, k, v is (batch_size, seq_len, hidden_dim)\n",
    "        attn = torch.matmul(q, k.transpose(1, 2)) / math.sqrt(self.hidden_dim)\n",
    "        # attn = q @ k.transpose(1, 2) / math.sqrt(self.hidden_dim)\n",
    "        # the shape of attn is (batch_size, seq_len, seq_len)\n",
    "        if mask is not None:\n",
    "            attn = attn.masked_fill(mask == 0, -1e9)\n",
    "        attn = F.softmax(attn / math.sqrt(self.hidden_dim), dim=-1)\n",
    "        attn = self.dropout(attn)\n",
    "        attn = torch.matmul(attn, v)\n",
    "        # attn = attn @ v \n",
    "        # the shape of attn is (batch_size, seq_len, hidden\n",
    "        return self.W_o(attn)"
   ]
  },
  {
   "cell_type": "code",
   "execution_count": 6,
   "metadata": {},
   "outputs": [],
   "source": [
    "class MultiHeadAttention(nn.Module):\n",
    "    def __init__(self, in_dim, out_dim, hidden_dim, num_heads, dropout=0.1):\n",
    "        super().__init__()\n",
    "        self.in_dim = in_dim\n",
    "        self.out_dim = out_dim\n",
    "        self.hidden_dim = hidden_dim\n",
    "        self.num_heads = num_heads\n",
    "        self.head_dim = hidden_dim // num_heads \n",
    "        self.W_q = nn.Linear(in_dim, hidden_dim)\n",
    "        self.W_k = nn.Linear(in_dim, hidden_dim)\n",
    "        self.W_v = nn.Linear(in_dim, hidden_dim)\n",
    "        self.W_o = nn.Linear(hidden_dim, out_dim)\n",
    "        # self.attn = SelfAttention(hidden_dim, hidden_dim, hidden_dim, dropout)\n",
    "        self.dropout = nn.Dropout(dropout)\n",
    "        \n",
    "    def forward(self, x, mask=None):\n",
    "        batch_size = x.size(0)\n",
    "        q = self.W_q(x) \n",
    "        k = self.W_k(x) \n",
    "        v = self.W_v(x) \n",
    "        # the shape of q, k, v is (batch_size, seq_len, hidden_dim)\n",
    "        q = q.view(batch_size, -1, self.num_heads, self.head_dim).transpose(1, 2)\n",
    "        k = k.view(batch_size, -1, self.num_heads, self.head_dim).transpose(1, 2)\n",
    "        v = v.view(batch_size, -1, self.num_heads, self.head_dim).transpose(1, 2)\n",
    "        # the shape of q, k, v is (batch_size, num_heads, seq_len, head_dim)\n",
    "        # 在缩放点积注意力计算中，我们需要计算每个查询 (Q) 与所有键 (K) 之间的相似度。\n",
    "        # 为了并行计算多个头的注意力，我们需要将 num_heads 维度放在前面，这样就可以将每个头的数据视为一个独立的批次进行处理。\n",
    "        \n",
    "        attn = q @ k.transpose(-2, -1) / math.sqrt(self.head_dim)\n",
    "        if mask is not None:\n",
    "            attn = attn.masked_fill(mask == 0, -1e9)\n",
    "        attn = F.softmax(attn, dim=-1)\n",
    "        attn = self.dropout(attn)\n",
    "        # the shape of attn is (batch_size, num_heads, seq_len, seq_len)\n",
    "        attn = attn @ v\n",
    "        # the shape of attn is (batch_size, num_heads, seq_len, head_dim)\n",
    "        attn = attn.transpose(1, 2).contiguous().view(batch_size, -1, self.hidden_dim)\n",
    "        # the shape of attn is (batch_size, seq_len, hidden_dim)\n",
    "        return self.W_o(attn), attn"
   ]
  },
  {
   "cell_type": "code",
   "execution_count": 7,
   "metadata": {},
   "outputs": [
    {
     "name": "stdout",
     "output_type": "stream",
     "text": [
      "torch.Size([32, 32, 10, 512])\n",
      "torch.Size([32, 10, 512])\n"
     ]
    }
   ],
   "source": [
    "if __name__ == '__main__':\n",
    "    # Example usage\n",
    "    batch_size = 32\n",
    "    seq_len = 10\n",
    "    hidden_num = 512\n",
    "    num_heads = 8\n",
    "\n",
    "    # Create random input tensors\n",
    "    x = torch.randn(batch_size, seq_len, hidden_num)\n",
    "\n",
    "    # Create a mask (optional)\n",
    "    mask = torch.ones(batch_size, 1, seq_len, seq_len)\n",
    "    mask[:, :, :, :5] = 0  # Mask the first 5 positions\n",
    "    # Instantiate the SelfAttention module\n",
    "    self_attn = SelfAttention(hidden_num, hidden_num, hidden_num)\n",
    "\n",
    "    # Instantiate the MultiHeadAttention module\n",
    "    multihead_attn = MultiHeadAttention(\n",
    "        hidden_num, hidden_num, hidden_num, num_heads)\n",
    "\n",
    "    # Perform self-attention\n",
    "    output_self_attention = self_attn(x, mask)\n",
    "\n",
    "    # Perform multi-head attention\n",
    "    output_mutlihead_attention,_ = multihead_attn(x, mask)\n",
    "\n",
    "    # Print the output shape\n",
    "    print(output_self_attention.size())\n",
    "    print(output_mutlihead_attention.size())\n"
   ]
  }
 ],
 "metadata": {
  "kernelspec": {
   "display_name": "cv-assignment2",
   "language": "python",
   "name": "python3"
  },
  "language_info": {
   "codemirror_mode": {
    "name": "ipython",
    "version": 3
   },
   "file_extension": ".py",
   "mimetype": "text/x-python",
   "name": "python",
   "nbconvert_exporter": "python",
   "pygments_lexer": "ipython3",
   "version": "3.9.20"
  }
 },
 "nbformat": 4,
 "nbformat_minor": 2
}
